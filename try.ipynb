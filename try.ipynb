{
 "cells": [
  {
   "cell_type": "code",
   "execution_count": 3,
   "metadata": {},
   "outputs": [
    {
     "data": {
      "text/plain": [
       "bytes"
      ]
     },
     "execution_count": 3,
     "metadata": {},
     "output_type": "execute_result"
    }
   ],
   "source": [
    "p = 6\n",
    "q = 8\n",
    "guess = f\"{p}{q}\".encode()\n",
    "type(guess)"
   ]
  },
  {
   "cell_type": "markdown",
   "metadata": {},
   "source": [
    "# Holdem Odds Calculator"
   ]
  },
  {
   "cell_type": "code",
   "execution_count": 96,
   "metadata": {},
   "outputs": [],
   "source": [
    "from collections import Counter\n",
    "# Constants\n",
    "# suits = {\"s\": 0, \"c\": 1, \"h\": 2, \"d\": 3}\n",
    "suits = (\"s\", \"c\", \"h\", \"d\")\n",
    "# valRank = \"23456789TJQK\"\n",
    "handRanks = ('Royal Flush',\n",
    "            'Straight Flush',\n",
    "            'Four of a Kind',\n",
    "            'Full House',\n",
    "            'Flush',\n",
    "            'Straight',\n",
    "            'Three of a Kind',\n",
    "            'Two Pair',\n",
    "            'Pair',\n",
    "            'High Card')\n",
    "ranks = {\"t\": 10, \"j\": 11, \"q\": 12, \"k\": 13, \"a\": 14}\n",
    "# for num in xrange(2, 10):\n",
    "#     rank[str(num)] = num\n",
    "\n",
    "def withSameSuit(*cards, n=0):\n",
    "    \"\"\"\n",
    "    At least n out of all the given cards have the same suit.\n",
    "    n=0 means ALL with the same suit.\n",
    "    Return that suit or False.\n",
    "    \"\"\"\n",
    "    if (n == 0) or (n > len(cards)):\n",
    "        n = len(cards)\n",
    "    suits = [card[1] for card in cards]\n",
    "    c = Counter(suits)\n",
    "    suitCount = sorted([(count, suit) for (suit, count) in c.items()],\n",
    "                       reverse=True)\n",
    "    if suitCount[0][0] >= n:\n",
    "        return suitCount[0][1]\n",
    "    return False"
   ]
  },
  {
   "cell_type": "code",
   "execution_count": 139,
   "metadata": {},
   "outputs": [],
   "source": [
    "class Holdem:\n",
    "    def __init__(self, n, hand1, hand2, board1, board2, board3):\n",
    "        self.numOfPlayer = n\n",
    "        self.hand = [card.lower() for card in [hand1, hand2]]\n",
    "        self.board = [card.lower() for card in [board1, board2, board3]]\n",
    "        self.knownCards = self.hand + self.board\n",
    "#         self.countRanks()\n",
    "\n",
    "    def revealBoard(self, nextCard):\n",
    "        if len(self.board) > 4:\n",
    "            raise ValueError(f\"Too many cards on board! The board already has {len(self.board)} cards.\")\n",
    "        self.board.append(nextCard.lower())\n",
    "        self.knownCards.append(nextCard.lower())\n",
    "        if len(self.board) == 5:\n",
    "            self.bestHand()\n",
    "            \n",
    "    def bestHand(self):\n",
    "        bestRank = \"Royal Flush\"\n",
    "        cardsFromBoard = \"\"\n",
    "        print(f\"Best Result - {bestRank}\")\n",
    "        print(f\"Your Hand: {self.hand}\")\n",
    "        print(f\"With from board: {cardsFromBoard}\")\n",
    "    \n",
    "            \n",
    "    def countRoyalFlush(self):\n",
    "        \"\"\"\n",
    "        Count number of possible Royal Flush.\n",
    "        A, K, Q, J, 10, all the same suit.\n",
    "        \"\"\"\n",
    "        prob = 0\n",
    "        royalFlushRanks = ['a', 'k', 'q', 'j', 't']\n",
    "        commonSuit = withSameSuit(*self.knownCards, n=len(self.knownCards)-2)\n",
    "        if commonSuit: \n",
    "            # At least 3 of known cards have the same suit\n",
    "            valuesOfCommonSuit = [card[0] for card in self.knownCards\n",
    "                                 if card[1] == commonSuit]\n",
    "            valuesInRoyalStraight = True\n",
    "            for value in valuesOfCommonSuit:\n",
    "                if value in royalFlushRanks:\n",
    "                    royalFlushRanks.remove(value)\n",
    "        if 7 - len(self.knownCards) >= len(royalFlushRanks):\n",
    "            # unknown cards >= cards needed to be royalFlush\n",
    "            prob = 1/(52 - len(self.knownCards))\n",
    "            if len(royalFlushRanks) == 2:\n",
    "                prob *= 1 / (52-len(self.knownCards)-1)\n",
    "            elif len(royalFlushRanks) > 2:\n",
    "                raise ValueError(f\"Need {len(royalFlushRanks)} more cards to complete Royal Flush!\")\n",
    "                \n",
    "        return f\"{prob*100:.2f}%\"\n",
    "    \n",
    "    def countStraightFlush(self):\n",
    "        \"\"\"\n",
    "        Count number of possible Straight Flush.\n",
    "        Five cards in a sequence, all in the same suit.\n",
    "        \"\"\"\n",
    "        count = 0\n",
    "        \n",
    "        return count\n",
    "    \n",
    "    def countFourOfAKind(self):\n",
    "        \"\"\"\n",
    "        All four cards of the same rank.\n",
    "        \"\"\"\n",
    "        count = 0\n",
    "        \n",
    "        return count\n",
    "    \n",
    "    def countFullHouse(self):\n",
    "        \"\"\"\n",
    "        Three of a kind with a pair.\n",
    "        \"\"\"\n",
    "        count = 0\n",
    "        \n",
    "        return count\n",
    "    \n",
    "    def countFlush(self):\n",
    "        \"\"\"\n",
    "        Any five cards of the same suit, but not in a sequence\n",
    "        \"\"\"\n",
    "        count = 0\n",
    "        \n",
    "        return count\n",
    "    \n",
    "    def countStraight(self):\n",
    "        \"\"\"\n",
    "        Five cards in a sequence, but not of the same suit.        \n",
    "        \"\"\"\n",
    "        count = 0\n",
    "        \n",
    "        return count\n",
    "    \n",
    "    def countThreeOfAKind(self):\n",
    "        \"\"\"\n",
    "        Three cards of the same rank.\n",
    "        \"\"\"\n",
    "        count = 0\n",
    "        \n",
    "        return count\n",
    "    \n",
    "    def countTwoPairs(self):\n",
    "        \"\"\"\n",
    "        Two different pairs.\n",
    "        \"\"\"\n",
    "        count = 0\n",
    "        \n",
    "        return count\n",
    "    \n",
    "    def countPair(self):\n",
    "        \"\"\"\n",
    "        One pair.\n",
    "        \"\"\"\n",
    "        count = 0\n",
    "        \n",
    "        return count\n",
    "    \n",
    "    # otherwise, compare the High Card"
   ]
  },
  {
   "cell_type": "code",
   "execution_count": 140,
   "metadata": {},
   "outputs": [
    {
     "data": {
      "text/plain": [
       "{'numOfPlayer': 5,\n",
       " 'hand': ['as', 'qd'],\n",
       " 'board': ['ts', 'qs', '4c'],\n",
       " 'knownCards': ['as', 'qd', 'ts', 'qs', '4c']}"
      ]
     },
     "execution_count": 140,
     "metadata": {},
     "output_type": "execute_result"
    }
   ],
   "source": [
    "# test\n",
    "firstTurn = Holdem(5, 'AS', 'QD', 'TS', 'QS', '4C')\n",
    "firstTurn.__dict__"
   ]
  },
  {
   "cell_type": "code",
   "execution_count": 141,
   "metadata": {},
   "outputs": [
    {
     "data": {
      "text/plain": [
       "'0.05%'"
      ]
     },
     "execution_count": 141,
     "metadata": {},
     "output_type": "execute_result"
    }
   ],
   "source": [
    "firstTurn.countRoyalFlush()"
   ]
  },
  {
   "cell_type": "code",
   "execution_count": 106,
   "metadata": {},
   "outputs": [
    {
     "data": {
      "text/plain": [
       "['a', '8', '2']"
      ]
     },
     "execution_count": 106,
     "metadata": {},
     "output_type": "execute_result"
    }
   ],
   "source": [
    "a = [card[0] for card in firstTurn.knownCards if card[1] == commonSuit]\n",
    "a"
   ]
  },
  {
   "cell_type": "code",
   "execution_count": 107,
   "metadata": {},
   "outputs": [
    {
     "data": {
      "text/plain": [
       "['a', '8']"
      ]
     },
     "execution_count": 107,
     "metadata": {},
     "output_type": "execute_result"
    }
   ],
   "source": [
    "a.remove('2')\n",
    "a"
   ]
  },
  {
   "cell_type": "code",
   "execution_count": null,
   "metadata": {},
   "outputs": [],
   "source": []
  }
 ],
 "metadata": {
  "kernelspec": {
   "display_name": "Python 3",
   "language": "python",
   "name": "python3"
  },
  "language_info": {
   "codemirror_mode": {
    "name": "ipython",
    "version": 3
   },
   "file_extension": ".py",
   "mimetype": "text/x-python",
   "name": "python",
   "nbconvert_exporter": "python",
   "pygments_lexer": "ipython3",
   "version": "3.7.7"
  }
 },
 "nbformat": 4,
 "nbformat_minor": 4
}
